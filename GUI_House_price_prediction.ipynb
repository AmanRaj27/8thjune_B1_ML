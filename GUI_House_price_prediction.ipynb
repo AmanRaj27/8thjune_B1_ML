{
 "cells": [
  {
   "cell_type": "code",
   "execution_count": 1,
   "id": "9bde17e8-3719-4f0a-bf6f-689847faa1f7",
   "metadata": {},
   "outputs": [],
   "source": [
    "import pandas as pd"
   ]
  },
  {
   "cell_type": "code",
   "execution_count": 2,
   "id": "a452dbbf-e439-4f87-a55f-a1b4e3a44530",
   "metadata": {},
   "outputs": [],
   "source": [
    "from sklearn.model_selection import train_test_split\n",
    "from sklearn.linear_model import LinearRegression"
   ]
  },
  {
   "cell_type": "code",
   "execution_count": 3,
   "id": "44881697-69f7-40a7-8cbb-0d10c847b79b",
   "metadata": {},
   "outputs": [],
   "source": [
    "import tkinter as tk"
   ]
  },
  {
   "cell_type": "code",
   "execution_count": 4,
   "id": "e9fbee9c-c2dc-4c59-abd9-e57cc69b2e56",
   "metadata": {},
   "outputs": [],
   "source": [
    "import warnings\n",
    "warnings.filterwarnings('ignore')"
   ]
  },
  {
   "cell_type": "code",
   "execution_count": 24,
   "id": "3f3d89e0-03d7-4944-8b87-97672149ff51",
   "metadata": {},
   "outputs": [],
   "source": [
    "m=pd.read_pickle('House_price_predictor.pkl')\n",
    "\n",
    "app=tk.Tk()\n",
    "app.geometry('450x400')\n",
    "app.title('House Price Predictor')\n",
    "\n",
    "income = tk.Variable(app)\n",
    "house_age=tk.Variable(app)\n",
    "rooms=tk.Variable(app)\n",
    "population=tk.Variable(app)\n",
    "m=pd.read_pickle('House_price_predictor.pkl')\n",
    "\n",
    "predicted_price=tk.Variable(app)\n",
    "predicted_price.set('')\n",
    "\n",
    "def houseprice():\n",
    "    inc=eval(income.get())\n",
    "    age=eval(house_age.get())\n",
    "    room=eval(rooms.get())\n",
    "    pop=eval(population.get())\n",
    "    \n",
    "    query=pd.DataFrame({'income':[inc],'house_age':[age],'room':[room],'population':[pop]})\n",
    "    predicted_price.set(round(m.predict(query)[0],2))\n",
    "    \n",
    "entry_income=tk.Entry(app,textvariable = income, width=25)\n",
    "entry_income.place(x=230,y=60,height=20)\n",
    "label1=tk.Label(app,text='Income',bg='green',fg='white',font='bold').place(x=5,y=50)\n",
    "\n",
    "entry_age=tk.Entry(app,textvariable = house_age, width=25)\n",
    "entry_age.place(x=230,y=100,height=20)\n",
    "label2=tk.Label(app,text='House Age',bg='orange',fg='white',font='bold').place(x=5,y=100)\n",
    "\n",
    "entry_room=tk.Entry(app,textvariable = rooms, width=25)\n",
    "entry_room.place(x=230,y=140,height=20)\n",
    "label3=tk.Label(app,text='Room',bg='red',fg='white',font='bold').place(x=5,y=150)\n",
    "\n",
    "entry_pop=tk.Entry(app,textvariable = population, width=25)\n",
    "entry_pop.place(x=230,y=180,height=20)\n",
    "label4=tk.Label(app,text='Population',bg='blue',fg='white',font='bold').place(x=5,y=200)\n",
    "\n",
    "button=tk.Button(app,text='Best Price Of House',command=houseprice,bg='violet',fg='white',font='bold').place(x=200,y=250,height=40)\n",
    "label5=tk.Label(app,textvariable=predicted_price,text='price_of_house').place(x=50,y=300)\n",
    "\n",
    "app.mainloop()"
   ]
  },
  {
   "cell_type": "code",
   "execution_count": null,
   "id": "f4b086b1-bfed-4a0e-ae0a-d45854b5d49e",
   "metadata": {},
   "outputs": [],
   "source": []
  }
 ],
 "metadata": {
  "kernelspec": {
   "display_name": "Python 3",
   "language": "python",
   "name": "python3"
  },
  "language_info": {
   "codemirror_mode": {
    "name": "ipython",
    "version": 3
   },
   "file_extension": ".py",
   "mimetype": "text/x-python",
   "name": "python",
   "nbconvert_exporter": "python",
   "pygments_lexer": "ipython3",
   "version": "3.8.8"
  }
 },
 "nbformat": 4,
 "nbformat_minor": 5
}
